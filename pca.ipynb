{
 "cells": [
  {
   "cell_type": "markdown",
   "metadata": {},
   "source": [
    "# PCA Analysis"
   ]
  },
  {
   "cell_type": "code",
   "execution_count": 1,
   "metadata": {},
   "outputs": [],
   "source": [
    "# import transformers\n",
    "import pandas as pd\n",
    "import numpy as np\n",
    "import matplotlib.pyplot as plt\n",
    "import scipy.stats\n",
    "from torch import cuda\n",
    "from sentence_transformers import SentenceTransformer, CrossEncoder, util\n",
    "from sklearn.decomposition import PCA\n",
    "from sklearn.preprocessing import StandardScaler\n",
    "from datasets import load_dataset"
   ]
  },
  {
   "cell_type": "markdown",
   "metadata": {},
   "source": [
    "# 1. Model comparison\n",
    "\n",
    "Objective: check the significance of difference in top PCA components of different bi-encoder models from SBert.\n",
    "\n",
    "Models: top 3 on \"performance sentence embeddings\" on SBert.\n",
    "- all-mpnet-base-v2\n",
    "- all-distilroberta-v1\n",
    "- all-MiniLM-L12-v2"
   ]
  },
  {
   "cell_type": "code",
   "execution_count": 2,
   "metadata": {},
   "outputs": [],
   "source": [
    "# biencoders\n",
    "model_mpnet = SentenceTransformer('all-mpnet-base-v2', device='cuda')\n",
    "model_distil = SentenceTransformer('all-distilroberta-v1', device='cuda')\n",
    "model_minilm = SentenceTransformer('all-MiniLM-L12-v2', device='cuda')"
   ]
  },
  {
   "cell_type": "code",
   "execution_count": 3,
   "metadata": {},
   "outputs": [],
   "source": [
    "def get_pcs(model, docs, n_components=20):\n",
    "    doc_embeddings = model.encode(docs)\n",
    "    doc_embeddings = StandardScaler().fit_transform(doc_embeddings)\n",
    "    pca = PCA(n_components=n_components)\n",
    "    pca.fit(doc_embeddings)\n",
    "    return pca.components_\n",
    "\n",
    "def significance_test(arr1, arr2, pc_axis=0):\n",
    "    if pc_axis==0:\n",
    "        return [scipy.stats.ttest_ind(arr1[i,:], arr2[i,:]).pvalue for i in range(20)]\n",
    "    else:\n",
    "        return [scipy.stats.ttest_ind(arr1[:,i], arr2[:,i]).pvalue for i in range(20)]"
   ]
  },
  {
   "cell_type": "markdown",
   "metadata": {},
   "source": [
    "## 1.1 COVID"
   ]
  },
  {
   "cell_type": "code",
   "execution_count": 4,
   "metadata": {},
   "outputs": [],
   "source": [
    "# data\n",
    "df = pd.read_csv('response_db.csv', encoding='unicode_escape').drop_duplicates(['user_kp','system_kp']).reset_index(drop=True)\n",
    "queries = df['user_kp'].tolist()\n",
    "docs = df['system_kp'].tolist()\n",
    "\n",
    "pcs_mpnet = get_pcs(model_mpnet, docs)\n",
    "pcs_distil = get_pcs(model_distil, docs)\n",
    "pcs_minilm = get_pcs(model_minilm, docs)\n",
    "\n",
    "pv_mpnet_distil = significance_test(pcs_mpnet, pcs_distil)\n",
    "pv_mpnet_minilm = significance_test(pcs_mpnet, pcs_minilm)\n",
    "pv_distil_minilm = significance_test(pcs_distil, pcs_minilm)"
   ]
  },
  {
   "cell_type": "code",
   "execution_count": 12,
   "metadata": {},
   "outputs": [
    {
     "data": {
      "text/plain": [
       "array([[ 0.01533511, -0.02706321,  0.0303197 , ..., -0.04782284,\n",
       "         0.01860295,  0.04515353],\n",
       "       [ 0.04102901, -0.03736981,  0.0504472 , ...,  0.00095867,\n",
       "        -0.02980749,  0.04384352],\n",
       "       [-0.00106945,  0.03093278,  0.0220658 , ..., -0.00153756,\n",
       "         0.00075489, -0.00716529],\n",
       "       ...,\n",
       "       [-0.00456133,  0.01739576,  0.00264274, ..., -0.04080857,\n",
       "        -0.0576205 , -0.01135791],\n",
       "       [-0.00646282,  0.01760564, -0.03051886, ..., -0.01413193,\n",
       "        -0.02268842,  0.01124677],\n",
       "       [ 0.03181783,  0.03967287,  0.02653894, ..., -0.0159077 ,\n",
       "         0.02498961, -0.11529076]], dtype=float32)"
      ]
     },
     "execution_count": 12,
     "metadata": {},
     "output_type": "execute_result"
    }
   ],
   "source": [
    "pcs_distil"
   ]
  },
  {
   "cell_type": "code",
   "execution_count": 5,
   "metadata": {},
   "outputs": [
    {
     "data": {
      "text/plain": [
       "array([[-6.77504484e-03, -3.40530053e-02, -1.56106232e-02, ...,\n",
       "        -2.16428190e-02, -6.32597730e-02, -5.48491478e-02],\n",
       "       [-5.64080924e-02,  6.40984144e-05,  3.81080853e-03, ...,\n",
       "        -3.85399535e-02,  2.59568393e-02, -4.52464111e-02],\n",
       "       [ 5.20867994e-03, -4.29361202e-02,  4.04056460e-02, ...,\n",
       "        -4.32734974e-02, -6.61239168e-03, -5.52224331e-02],\n",
       "       ...,\n",
       "       [-6.57229722e-02,  1.83030963e-02, -1.31614842e-02, ...,\n",
       "        -4.59712707e-02, -5.46937399e-02, -1.09862955e-02],\n",
       "       [ 3.29291448e-02, -2.62783319e-02,  5.37913330e-02, ...,\n",
       "        -1.10928267e-02,  2.21846662e-02, -2.23664893e-03],\n",
       "       [ 4.87755751e-03,  1.84907168e-02,  2.66285408e-02, ...,\n",
       "        -3.51535827e-02,  2.39926483e-02, -4.99214046e-03]], dtype=float32)"
      ]
     },
     "execution_count": 5,
     "metadata": {},
     "output_type": "execute_result"
    }
   ],
   "source": [
    "pcs_mpnet"
   ]
  },
  {
   "cell_type": "code",
   "execution_count": 9,
   "metadata": {},
   "outputs": [
    {
     "data": {
      "text/plain": [
       "-2.5468506e-05"
      ]
     },
     "execution_count": 9,
     "metadata": {},
     "output_type": "execute_result"
    }
   ],
   "source": [
    "np.mean(pcs_distil - pcs_mpnet)"
   ]
  },
  {
   "cell_type": "code",
   "execution_count": 10,
   "metadata": {},
   "outputs": [
    {
     "data": {
      "text/plain": [
       "0.05083304"
      ]
     },
     "execution_count": 10,
     "metadata": {},
     "output_type": "execute_result"
    }
   ],
   "source": [
    "np.std(pcs_distil - pcs_mpnet)"
   ]
  },
  {
   "cell_type": "code",
   "execution_count": 11,
   "metadata": {},
   "outputs": [
    {
     "name": "stdout",
     "output_type": "stream",
     "text": [
      "[0.9369904631679166, 0.7257680387902234, 0.9915355692015002, 0.794032837921355, 0.8043209475916491, 0.7757760852906402, 0.980384417231434, 0.7111870623391553, 0.8405846512836396, 0.8168477077820219, 0.8997397512325481, 0.9668346176377536, 0.9806679455986129, 0.8127239262822005, 0.8171735259772803, 0.8686599349612345, 0.8505283177724403, 0.7832375770391147, 0.9985155054118757, 0.9329370012849648]\n",
      "[0.9986512216132407, 0.8255646316323191, 0.6154325143490207, 0.5987083043174123, 0.9690885953353655, 0.8834858096346746, 0.9794101985976655, 0.6538170325188223, 0.7237411867946559, 0.9128969711999001, 0.9520579482603111, 0.7816297278272876, 0.9836388447371673, 0.9186690271552702, 0.9096385698851972, 0.9709004432982677, 0.9012290347603571, 0.5569384981625133, 0.9905971265240993, 0.749919395290269]\n",
      "[0.9540878145156675, 0.978013100163617, 0.6101681752807935, 0.7325794693492405, 0.8306272620049115, 0.9563001924620602, 0.9655506768221975, 0.477574944698829, 0.8326736542469784, 0.7847723781872729, 0.9769113973076577, 0.7591564353338296, 0.9699773496786378, 0.9478818732226917, 0.7818422857226379, 0.8781022861294441, 0.9927352253793458, 0.4342870358487686, 0.9916464691766638, 0.7052588937317461]\n"
     ]
    }
   ],
   "source": [
    "# All p-values are large enough to not reject the null hypothesis.\n",
    "# The model choice does not matter for PCA analyses.\n",
    "print(pv_mpnet_distil)\n",
    "print(pv_mpnet_minilm)\n",
    "print(pv_distil_minilm)"
   ]
  },
  {
   "cell_type": "markdown",
   "metadata": {},
   "source": [
    "## 1.2 Substance"
   ]
  },
  {
   "cell_type": "code",
   "execution_count": 77,
   "metadata": {},
   "outputs": [],
   "source": [
    "# data\n",
    "df = pd.read_csv('Substance_Use_and_Recovery_FAQ.csv')\n",
    "queries = df['question'].tolist()\n",
    "docs = df['relevant answer'].tolist()\n",
    "\n",
    "pcs_mpnet = get_pcs(model_mpnet, docs)\n",
    "pcs_distil = get_pcs(model_distil, docs)\n",
    "pcs_minilm = get_pcs(model_minilm, docs)\n",
    "\n",
    "pv_mpnet_distil = significance_test(pcs_mpnet, pcs_distil)\n",
    "pv_mpnet_minilm = significance_test(pcs_mpnet, pcs_minilm)\n",
    "pv_distil_minilm = significance_test(pcs_distil, pcs_minilm)"
   ]
  },
  {
   "cell_type": "code",
   "execution_count": 78,
   "metadata": {},
   "outputs": [
    {
     "name": "stdout",
     "output_type": "stream",
     "text": [
      "[0.9944167672617568, 0.8444469732414226, 0.6001557990766788, 0.9497004808281687, 0.8802335463115841, 0.7871093178443064, 0.8439749493591823, 0.9281202231075372, 0.8567099697359651, 0.9424795538684778, 0.9032074697084329, 0.5902163450156457, 0.547152661377585, 0.8665302652028625, 0.7465890403628914, 0.7376910085750281, 0.8839566694034775, 0.9153363116085202, 0.8962478939088181, 0.8570012119594153]\n",
      "[0.9286428190535285, 0.7370071137676965, 0.8620899436045542, 0.9277892417265727, 0.9167655044681347, 0.8312671048300979, 0.8261908432514732, 0.7573721693211738, 0.7961558531943909, 0.865016710968687, 0.40821020129547136, 0.9743804483950199, 0.8083542899459676, 0.9828658875426551, 0.6314768552139713, 0.9450047178367911, 0.8485109076725386, 0.5823918126189188, 0.9898429201068609, 0.4912789850811172]\n",
      "[0.9247125777230959, 0.8437351922209144, 0.8439609176973145, 0.9632840932884992, 0.832868893439331, 0.9823158229522223, 0.9358697934598339, 0.7093672888338542, 0.8960265645468838, 0.8250935092912585, 0.36123434176023084, 0.7274064221242705, 0.854773845398388, 0.9224617953658343, 0.8016401551066559, 0.8667616787982648, 0.7686054055549374, 0.6349704687817856, 0.9366721708415975, 0.41469504458876016]\n"
     ]
    }
   ],
   "source": [
    "# All p-values are large enough to not reject the null hypothesis.\n",
    "# The model choice does not matter for PCA analyses.\n",
    "print(pv_mpnet_distil)\n",
    "print(pv_mpnet_minilm)\n",
    "print(pv_distil_minilm)"
   ]
  },
  {
   "cell_type": "markdown",
   "metadata": {},
   "source": [
    "# 2. OOD"
   ]
  },
  {
   "cell_type": "markdown",
   "metadata": {},
   "source": [
    "Objective: check the significance of difference in top PCA components of a document base, between in-domain queries and OOD queries.\n",
    "\n",
    "Document bases:\n",
    "- COVID\n",
    "- Substance FAQ\n",
    "\n",
    "Query sets:\n",
    "- COVID\n",
    "- Substance FAQ\n",
    "- WikiQA"
   ]
  },
  {
   "cell_type": "code",
   "execution_count": 79,
   "metadata": {},
   "outputs": [
    {
     "name": "stderr",
     "output_type": "stream",
     "text": [
      "Using custom data configuration default\n",
      "Reusing dataset wiki_qa (C:\\Users\\mikus\\.cache\\huggingface\\datasets\\wiki_qa\\default\\0.1.0\\d2d236b5cbdc6fbdab45d168b4d678a002e06ddea3525733a24558150585951c)\n"
     ]
    }
   ],
   "source": [
    "# data\n",
    "df_covid = pd.read_csv('response_db.csv', encoding='unicode_escape').drop_duplicates(['user_kp','system_kp']).reset_index(drop=True)\n",
    "df_drugs = pd.read_csv('Substance_Use_and_Recovery_FAQ.csv')\n",
    "dataset = load_dataset(\"wiki_qa\", split=\"validation\")\n",
    "\n",
    "# docs\n",
    "docs_covid = df_covid['system_kp'].tolist()\n",
    "docs_drugs = df_drugs['relevant answer'].tolist()\n",
    "\n",
    "# queries\n",
    "queries_covid = df_covid['user_kp'].tolist()\n",
    "queries_drugs = df_drugs['question'].tolist()\n",
    "queries_wikiqa = list(set(dataset['question']))\n",
    "\n",
    "# query embeddings\n",
    "query_embeddings_covid = model_mpnet.encode(queries_covid)\n",
    "query_embeddings_drugs = model_mpnet.encode(queries_drugs)\n",
    "query_embeddings_wikiqa = model_mpnet.encode(queries_wikiqa)"
   ]
  },
  {
   "cell_type": "markdown",
   "metadata": {},
   "source": [
    "## 2.1 COVID"
   ]
  },
  {
   "cell_type": "code",
   "execution_count": 80,
   "metadata": {},
   "outputs": [
    {
     "name": "stdout",
     "output_type": "stream",
     "text": [
      "[9.571231967544343e-206, 6.579972528837302e-18, 0.018774500716663506, 2.8044145304802305e-25, 1.2639636209463952e-10, 1.7776551944891552e-25, 4.622252327635669e-27, 1.7724098174814244e-07, 0.0003288061498236513, 1.490792160421637e-07, 1.5012936006566718e-06, 7.026367475912774e-16, 2.7423575893195583e-05, 0.012631090170174351, 8.666358346455019e-07, 0.00524830094651863, 4.013128922540761e-05, 0.053754190892597836, 0.5672370790274454, 0.009661431522135831]\n",
      "[4.0066121707530723e-109, 2.6180885187186997e-16, 2.3519754746350744e-29, 1.6938930892318994e-39, 1.9577873284778268e-50, 0.10679726962479828, 9.814175899250218e-07, 0.09139900240703361, 5.083830270178445e-19, 0.029664794287407828, 2.1773808857018677e-08, 5.415738048496892e-24, 0.6249262117181114, 0.2833325301159165, 0.18408882793005943, 0.12839899999244886, 1.1925870587671484e-09, 5.227727181754987e-17, 1.7004297418956944e-22, 1.9615992429119379e-13]\n"
     ]
    }
   ],
   "source": [
    "pcs = get_pcs(model_mpnet, docs_covid)\n",
    "avg_component_importance_covid = np.dot(query_embeddings_covid, pcs.T)\n",
    "avg_component_importance_drugs = np.dot(query_embeddings_drugs, pcs.T)\n",
    "avg_component_importance_wikiqa = np.dot(query_embeddings_wikiqa, pcs.T)\n",
    "\n",
    "pv_drugs_covid = significance_test(avg_component_importance_drugs, avg_component_importance_covid, pc_axis=1)\n",
    "pv_wikiqa_covid = significance_test(avg_component_importance_wikiqa, avg_component_importance_covid, pc_axis=1)\n",
    "\n",
    "print(pv_drugs_covid)\n",
    "print(pv_wikiqa_covid)"
   ]
  },
  {
   "cell_type": "code",
   "execution_count": 81,
   "metadata": {},
   "outputs": [
    {
     "name": "stdout",
     "output_type": "stream",
     "text": [
      "[0, 1, 3, 4, 6, 8, 10, 11, 16, 19]\n"
     ]
    }
   ],
   "source": [
    "pv_drugs_covid = [i if i >= 0.01 else 0 for i in pv_drugs_covid]\n",
    "pv_wikiqa_covid = [i if i >= 0.01 else 0 for i in pv_wikiqa_covid]\n",
    "\n",
    "equally_important_pc_ids = [i for i in range(20) if pv_drugs_covid[i]==0 and pv_wikiqa_covid[i]==0]\n",
    "print(equally_important_pc_ids)"
   ]
  },
  {
   "cell_type": "code",
   "execution_count": 82,
   "metadata": {},
   "outputs": [
    {
     "data": {
      "image/png": "[encoded data removed]",
      "text/plain": [
       "<Figure size 432x288 with 1 Axes>"
      ]
     },
     "metadata": {
      "needs_background": "light"
     },
     "output_type": "display_data"
    }
   ],
   "source": [
    "plt.plot(pv_drugs_covid, color='b', label=\"drugs vs covid\")\n",
    "plt.plot(pv_wikiqa_covid, color='r', label=\"wikiqa vs covid\")\n",
    "plt.xticks(range(20), range(1,21))\n",
    "plt.xlabel(\"PC index\")\n",
    "plt.ylabel(\"p-value\")\n",
    "plt.title(\"Statistical Significance on COVID docs: In-domain vs OOD queries\")\n",
    "plt.legend()\n",
    "plt.show()"
   ]
  },
  {
   "cell_type": "markdown",
   "metadata": {},
   "source": [
    "## 2.2 Substance"
   ]
  },
  {
   "cell_type": "code",
   "execution_count": 83,
   "metadata": {},
   "outputs": [
    {
     "name": "stdout",
     "output_type": "stream",
     "text": [
      "[0, 0, 0.018774500716663506, 0, 0, 0, 0, 0, 0, 0, 0, 0, 0, 0.012631090170174351, 0, 0, 0, 0.053754190892597836, 0.5672370790274454, 0]\n",
      "[0, 0, 0, 0, 0, 0.10679726962479828, 0, 0.09139900240703361, 0, 0.029664794287407828, 0, 0, 0.6249262117181114, 0.2833325301159165, 0.18408882793005943, 0.12839899999244886, 0, 0, 0, 0]\n"
     ]
    }
   ],
   "source": [
    "pcs = get_pcs(model_mpnet, docs_drugs)\n",
    "avg_component_importance_covid = np.dot(query_embeddings_covid, pcs.T)\n",
    "avg_component_importance_drugs = np.dot(query_embeddings_drugs, pcs.T)\n",
    "avg_component_importance_wikiqa = np.dot(query_embeddings_wikiqa, pcs.T)\n",
    "\n",
    "pv_covid_drugs = significance_test(avg_component_importance_covid, avg_component_importance_drugs, pc_axis=1)\n",
    "pv_wikiqa_drugs = significance_test(avg_component_importance_wikiqa, avg_component_importance_drugs, pc_axis=1)\n",
    "\n",
    "print(pv_drugs_covid)\n",
    "print(pv_wikiqa_covid)"
   ]
  },
  {
   "cell_type": "code",
   "execution_count": 84,
   "metadata": {},
   "outputs": [
    {
     "name": "stdout",
     "output_type": "stream",
     "text": [
      "[0, 2, 4, 5, 6, 7, 8, 10, 11, 12, 13, 14, 16, 18]\n"
     ]
    }
   ],
   "source": [
    "pv_covid_drugs = [i if i >= 0.01 else 0 for i in pv_covid_drugs]\n",
    "pv_wikiqa_drugs = [i if i >= 0.01 else 0 for i in pv_wikiqa_drugs]\n",
    "\n",
    "equally_important_pc_ids = [i for i in range(20) if pv_covid_drugs[i]==0 and pv_wikiqa_drugs[i]==0]\n",
    "print(equally_important_pc_ids)"
   ]
  },
  {
   "cell_type": "code",
   "execution_count": 85,
   "metadata": {},
   "outputs": [
    {
     "data": {
      "image/png": "[encoded data removed]",
      "text/plain": [
       "<Figure size 432x288 with 1 Axes>"
      ]
     },
     "metadata": {
      "needs_background": "light"
     },
     "output_type": "display_data"
    }
   ],
   "source": [
    "plt.plot(pv_covid_drugs, color='b', label=\"drugs vs covid\")\n",
    "plt.plot(pv_wikiqa_drugs, color='r', label=\"wikiqa vs covid\")\n",
    "plt.xticks(range(20), range(1,21))\n",
    "plt.xlabel(\"PC index\")\n",
    "plt.ylabel(\"p-value\")\n",
    "plt.title(\"Statistical Significance on Substance docs: In-domain vs OOD queries\")\n",
    "plt.legend()\n",
    "plt.show()"
   ]
  },
  {
   "cell_type": "markdown",
   "metadata": {},
   "source": [
    "# Draft"
   ]
  },
  {
   "cell_type": "code",
   "execution_count": 44,
   "metadata": {},
   "outputs": [
    {
     "data": {
      "image/png": "[encoded data removed]",
      "text/plain": [
       "<Figure size 576x216 with 1 Axes>"
      ]
     },
     "metadata": {
      "needs_background": "light"
     },
     "output_type": "display_data"
    }
   ],
   "source": [
    "# query_embeddings = bi_encoder.encode(queries)\n",
    "doc_embeddings = bi_encoder.encode(docs)\n",
    "\n",
    "scaler = StandardScaler()\n",
    "doc_embeddings = scaler.fit_transform(doc_embeddings)\n",
    "\n",
    "pca = PCA()\n",
    "pca.fit(doc_embeddings)\n",
    "pca.components_\n",
    "# transformed_query_embeddings = pca.transform(query_embeddings)\n",
    "cum_evr = [sum(pca.explained_variance_ratio_[:i+1]) for i in range(len(pca.explained_variance_ratio_))]\n",
    "plt.figure(figsize=(8,3))\n",
    "plt.plot(cum_evr)\n",
    "plt.axhline(y=0.8, color='r')\n",
    "plt.title(\"Cumulative Explained Variance Ratio vs Number of Components\")\n",
    "plt.xlabel(\"Number of Components\")\n",
    "plt.ylabel(\"Cumulative Explained Variance Ratio\")\n",
    "plt.show()"
   ]
  },
  {
   "cell_type": "code",
   "execution_count": 66,
   "metadata": {},
   "outputs": [
    {
     "data": {
      "text/plain": [
       "(10, 768)"
      ]
     },
     "execution_count": 66,
     "metadata": {},
     "output_type": "execute_result"
    }
   ],
   "source": [
    "pca = PCA(n_components=10)\n",
    "pca.fit(doc_embeddings)\n",
    "pca.components_.shape"
   ]
  },
  {
   "cell_type": "code",
   "execution_count": 67,
   "metadata": {},
   "outputs": [
    {
     "data": {
      "text/plain": [
       "(181, 768)"
      ]
     },
     "execution_count": 67,
     "metadata": {},
     "output_type": "execute_result"
    }
   ],
   "source": [
    "query_embeddings.shape"
   ]
  },
  {
   "cell_type": "code",
   "execution_count": 68,
   "metadata": {},
   "outputs": [],
   "source": [
    "avg_comp_importance = np.mean(np.dot(query_embeddings, pca.components_.T), axis=0)"
   ]
  },
  {
   "cell_type": "code",
   "execution_count": 69,
   "metadata": {},
   "outputs": [
    {
     "data": {
      "text/plain": [
       "array([0, 3, 1, 8, 6, 7, 5, 9, 4, 2], dtype=int64)"
      ]
     },
     "execution_count": 69,
     "metadata": {},
     "output_type": "execute_result"
    }
   ],
   "source": [
    "avg_comp_importance.argsort()"
   ]
  },
  {
   "cell_type": "code",
   "execution_count": 70,
   "metadata": {},
   "outputs": [
    {
     "name": "stderr",
     "output_type": "stream",
     "text": [
      "Using custom data configuration default\n",
      "Reusing dataset wiki_qa (C:\\Users\\mikus\\.cache\\huggingface\\datasets\\wiki_qa\\default\\0.1.0\\d2d236b5cbdc6fbdab45d168b4d678a002e06ddea3525733a24558150585951c)\n"
     ]
    }
   ],
   "source": [
    "from datasets import load_dataset\n",
    "\n",
    "dataset = load_dataset(\"wiki_qa\", split=\"validation\")"
   ]
  },
  {
   "cell_type": "code",
   "execution_count": 71,
   "metadata": {},
   "outputs": [],
   "source": [
    "dataset = load_dataset(\"wiki_qa\", split=\"validation\")\n",
    "irrelevant_queries = list(set(dataset['question']))"
   ]
  },
  {
   "cell_type": "code",
   "execution_count": 72,
   "metadata": {},
   "outputs": [],
   "source": [
    "ood_query_embeddings = bi_encoder.encode(irrelevant_queries)"
   ]
  },
  {
   "cell_type": "code",
   "execution_count": 73,
   "metadata": {},
   "outputs": [],
   "source": [
    "avg_comp_importance = np.mean(np.dot(ood_query_embeddings, pca.components_.T), axis=0)"
   ]
  },
  {
   "cell_type": "code",
   "execution_count": 74,
   "metadata": {},
   "outputs": [
    {
     "data": {
      "text/plain": [
       "array([4, 0, 7, 2, 5, 6, 8, 9, 1, 3], dtype=int64)"
      ]
     },
     "execution_count": 74,
     "metadata": {},
     "output_type": "execute_result"
    }
   ],
   "source": [
    "avg_comp_importance.argsort()"
   ]
  },
  {
   "cell_type": "code",
   "execution_count": 15,
   "metadata": {},
   "outputs": [],
   "source": [
    "def search(query, need_print=True):\n",
    "    # retrieve\n",
    "    query_embedding = bi_encoder.encode(query, convert_to_tensor=True).to('cuda')\n",
    "    hits = util.semantic_search(query_embedding, query_embeddings, top_k=top_k)[0]\n",
    "    \n",
    "    # rerank\n",
    "    cross_inp = [[query, docs[hit['corpus_id']]] for hit in hits]\n",
    "    cross_scores = cross_encoder.predict(cross_inp)\n",
    "\n",
    "    # sort by the cross-encoder scores\n",
    "    for idx in range(len(cross_scores)):\n",
    "        hits[idx]['cross-score'] = cross_scores[idx]\n",
    "    \n",
    "    if need_print:\n",
    "        # output of retrieval\n",
    "        print(\"\\n-------------------------\\n\")\n",
    "        print(\"Top-3 Bi-Encoder Retrieval hits\")\n",
    "        hits = sorted(hits, key=lambda x: x['score'], reverse=True)\n",
    "        for hit in hits[:3]:\n",
    "            print(\"\\t{:.3f}\\t{}\".format(hit['score'], docs[hit['corpus_id']].replace(\"\\n\", \" \")))\n",
    "\n",
    "        # output of rerank\n",
    "        print(\"\\n-------------------------\\n\")\n",
    "        print(\"Top-3 Cross-Encoder Reranker hits\")\n",
    "        hits = sorted(hits, key=lambda x: x['cross-score'], reverse=True)\n",
    "        for hit in hits[:3]:\n",
    "            print(\"\\t{:.3f}\\t{}\".format(hit['cross-score'], docs[hit['corpus_id']].replace(\"\\n\", \" \")))\n",
    "    else:\n",
    "        hits = sorted(hits, key=lambda x: x['cross-score'], reverse=True)\n",
    "            \n",
    "    # return top 1\n",
    "    return [(queries[hit['corpus_id']], docs[hit['corpus_id']]) for hit in hits[:3]]"
   ]
  },
  {
   "cell_type": "code",
   "execution_count": 22,
   "metadata": {},
   "outputs": [
    {
     "name": "stdout",
     "output_type": "stream",
     "text": [
      "\n",
      "-------------------------\n",
      "\n",
      "Top-3 Bi-Encoder Retrieval hits\n",
      "\t0.816\tYou can still get COVID even after being vaccinated\n",
      "\t0.813\tYou cannot get COVID from the vaccine\n",
      "\t0.727\tNewborns may have some immunity to COVID-19.\n",
      "\n",
      "-------------------------\n",
      "\n",
      "Top-3 Cross-Encoder Reranker hits\n",
      "\t0.998\tYou can still get COVID even after being vaccinated\n",
      "\t0.997\tThe vaccine will still protect you\n",
      "\t0.997\tNot sure yet, make sure to continue following COVID-19 guidelines. \n"
     ]
    },
    {
     "data": {
      "text/plain": [
       "[('Can I still get COVID even after being vaccinated?',\n",
       "  'You can still get COVID even after being vaccinated'),\n",
       " ('Should people that had COVID get the vaccine?',\n",
       "  'The vaccine will still protect you'),\n",
       " ('Does the vaccine prevent me from giving the virus to others?',\n",
       "  'Not sure yet, make sure to continue following COVID-19 guidelines. ')]"
      ]
     },
     "execution_count": 22,
     "metadata": {},
     "output_type": "execute_result"
    }
   ],
   "source": [
    "# CORRECT\n",
    "search(\"Is it possible to contract COVID-19 even after being fully vaccinated?\")"
   ]
  },
  {
   "cell_type": "code",
   "execution_count": 23,
   "metadata": {},
   "outputs": [
    {
     "name": "stdout",
     "output_type": "stream",
     "text": [
      "\n",
      "-------------------------\n",
      "\n",
      "Top-3 Bi-Encoder Retrieval hits\n",
      "\t0.749\tVerify with your state's health department to determine eligibility \n",
      "\t0.681\tOnly get vaccinated by a licensed medical provider\n",
      "\t0.627\tYou can the vaccine after you have recovered from COVID-19\n",
      "\n",
      "-------------------------\n",
      "\n",
      "Top-3 Cross-Encoder Reranker hits\n",
      "\t0.998\tVerify with your state's health department to determine eligibility \n",
      "\t0.997\tThe chatbot can answer various vaccine questions.\n",
      "\t0.996\tThe vaccine can be found at a health department or local pharmacy\n"
     ]
    },
    {
     "data": {
      "text/plain": [
       "[('Do I qualify for the vaccine?',\n",
       "  \"Verify with your state's health department to determine eligibility \"),\n",
       " ('What can you tell me about COVID-19 vaccines?',\n",
       "  'The chatbot can answer various vaccine questions.'),\n",
       " ('Where can I find the vaccine?',\n",
       "  'The vaccine can be found at a health department or local pharmacy')]"
      ]
     },
     "execution_count": 23,
     "metadata": {},
     "output_type": "execute_result"
    }
   ],
   "source": [
    "# CORRECT\n",
    "search(\"How do I know if I'm eligible to receive a COVID-19 booster shot?\")"
   ]
  },
  {
   "cell_type": "code",
   "execution_count": 24,
   "metadata": {},
   "outputs": [
    {
     "name": "stdout",
     "output_type": "stream",
     "text": [
      "\n",
      "-------------------------\n",
      "\n",
      "Top-3 Bi-Encoder Retrieval hits\n",
      "\t0.812\tThere is no evidence the vaccine will impact pregnancy\n",
      "\t0.793\tChildren under 5 cannot get the vaccine yet\n",
      "\t0.747\tpregnant and breastfeeding women should be offered the vaccine when eligible\n",
      "\n",
      "-------------------------\n",
      "\n",
      "Top-3 Cross-Encoder Reranker hits\n",
      "\t0.997\tThere is no evidence the vaccine will impact pregnancy\n",
      "\t0.994\tSafety measures are still important\n",
      "\t0.789\tNo, the vaccines donEEt cause sterility\n"
     ]
    },
    {
     "data": {
      "text/plain": [
       "[('Does the vaccine impact pregnancy?',\n",
       "  'There is no evidence the vaccine will impact pregnancy'),\n",
       " ('Do I need to continue safety measures after getting the vaccine? ',\n",
       "  'Safety measures are still important'),\n",
       " ('Will the vaccine make me sterile or infertile?',\n",
       "  'No, the vaccines don\\x81E\\x80\\x81Et cause sterility')]"
      ]
     },
     "execution_count": 24,
     "metadata": {},
     "output_type": "execute_result"
    }
   ],
   "source": [
    "# CORRECT\n",
    "search(\"Are there any concerns about vaccine safety for pregnant individuals?\")"
   ]
  },
  {
   "cell_type": "code",
   "execution_count": 25,
   "metadata": {},
   "outputs": [
    {
     "name": "stdout",
     "output_type": "stream",
     "text": [
      "\n",
      "-------------------------\n",
      "\n",
      "Top-3 Bi-Encoder Retrieval hits\n",
      "\t0.741\tIt is okay to take one pain relievers after vaccination\n",
      "\t0.690\tYou can get the vaccine even if you take medication\n",
      "\t0.663\tYes, many people don't experience any unpleasant reactions\n",
      "\n",
      "-------------------------\n",
      "\n",
      "Top-3 Cross-Encoder Reranker hits\n",
      "\t0.184\tNo, wait at least 14 days\n",
      "\t0.009\tNo, you need to receive the same brand\n",
      "\t0.006\tSafety measures are still important\n"
     ]
    },
    {
     "data": {
      "text/plain": [
       "[('Can I get other vaccines at the same time?', 'No, wait at least 14 days'),\n",
       " ('Can you mix the vaccines?', 'No, you need to receive the same brand'),\n",
       " ('Do I need to continue safety measures after getting the vaccine? ',\n",
       "  'Safety measures are still important')]"
      ]
     },
     "execution_count": 25,
     "metadata": {},
     "output_type": "execute_result"
    }
   ],
   "source": [
    "# INCORRECT\n",
    "search(\"Can I take over-the-counter medications to alleviate vaccine side effects?\")"
   ]
  },
  {
   "cell_type": "code",
   "execution_count": 26,
   "metadata": {},
   "outputs": [
    {
     "name": "stdout",
     "output_type": "stream",
     "text": [
      "\n",
      "-------------------------\n",
      "\n",
      "Top-3 Bi-Encoder Retrieval hits\n",
      "\t0.750\tNot sure yet, make sure to continue following COVID-19 guidelines. \n",
      "\t0.689\tThe vaccines will help reduce transmission\n",
      "\t0.682\tYou can still get COVID even after being vaccinated\n",
      "\n",
      "-------------------------\n",
      "\n",
      "Top-3 Cross-Encoder Reranker hits\n",
      "\t0.998\tNot sure yet, make sure to continue following COVID-19 guidelines. \n",
      "\t0.998\tYou can still get COVID even after being vaccinated\n",
      "\t0.996\tThe vaccine will still protect you\n"
     ]
    },
    {
     "data": {
      "text/plain": [
       "[('Does the vaccine prevent me from giving the virus to others?',\n",
       "  'Not sure yet, make sure to continue following COVID-19 guidelines. '),\n",
       " ('Can I still get COVID even after being vaccinated?',\n",
       "  'You can still get COVID even after being vaccinated'),\n",
       " ('Should people that had COVID get the vaccine?',\n",
       "  'The vaccine will still protect you')]"
      ]
     },
     "execution_count": 26,
     "metadata": {},
     "output_type": "execute_result"
    }
   ],
   "source": [
    "# CORRECT\n",
    "search(\"Is it true that vaccinated individuals can still transmit the virus to others?\")"
   ]
  },
  {
   "cell_type": "code",
   "execution_count": 4,
   "metadata": {},
   "outputs": [],
   "source": [
    "def RAG(query):\n",
    "    qa_pairs = search(query, need_print=False)\n",
    "    content = '\\n'.join([f\"Question: {q} Answer: {a}\" for q,a in qa_pairs])\n",
    "    response = chain.invoke({\"content\": content, \"question\": query})\n",
    "    return response, qa_pairs"
   ]
  },
  {
   "cell_type": "code",
   "execution_count": 28,
   "metadata": {},
   "outputs": [
    {
     "data": {
      "text/plain": [
       "'You can still contract COVID-19 even after being fully vaccinated, although the likelihood of severe illness or hospitalization is significantly lower compared to those who are unvaccinated. It is important to continue following COVID-19 guidelines and take necessary precautions to protect yourself and others.'"
      ]
     },
     "execution_count": 28,
     "metadata": {},
     "output_type": "execute_result"
    }
   ],
   "source": [
    "RAG(\"Is it possible to contract COVID-19 even after being fully vaccinated?\")"
   ]
  },
  {
   "cell_type": "code",
   "execution_count": 29,
   "metadata": {},
   "outputs": [
    {
     "data": {
      "text/plain": [
       "\"Verify with your state's health department or consult with your healthcare provider to determine your eligibility for a COVID-19 booster shot.\""
      ]
     },
     "execution_count": 29,
     "metadata": {},
     "output_type": "execute_result"
    }
   ],
   "source": [
    "RAG(\"How do I know if I'm eligible to receive a COVID-19 booster shot?\")"
   ]
  },
  {
   "cell_type": "code",
   "execution_count": 30,
   "metadata": {},
   "outputs": [
    {
     "data": {
      "text/plain": [
       "'There are currently no known safety concerns regarding the COVID-19 vaccines for pregnant individuals.'"
      ]
     },
     "execution_count": 30,
     "metadata": {},
     "output_type": "execute_result"
    }
   ],
   "source": [
    "RAG(\"Are there any concerns about vaccine safety for pregnant individuals?\")"
   ]
  },
  {
   "cell_type": "code",
   "execution_count": 31,
   "metadata": {},
   "outputs": [
    {
     "data": {
      "text/plain": [
       "'It is recommended to consult with a healthcare professional before taking any medications to alleviate vaccine side effects.'"
      ]
     },
     "execution_count": 31,
     "metadata": {},
     "output_type": "execute_result"
    }
   ],
   "source": [
    "RAG(\"Can I take over-the-counter medications to alleviate vaccine side effects?\")"
   ]
  },
  {
   "cell_type": "code",
   "execution_count": 32,
   "metadata": {},
   "outputs": [
    {
     "data": {
      "text/plain": [
       "'Not sure yet, make sure to continue following COVID-19 guidelines.'"
      ]
     },
     "execution_count": 32,
     "metadata": {},
     "output_type": "execute_result"
    }
   ],
   "source": [
    "RAG(\"Is it true that vaccinated individuals can still transmit the virus to others?\")"
   ]
  },
  {
   "cell_type": "code",
   "execution_count": 5,
   "metadata": {},
   "outputs": [
    {
     "name": "stderr",
     "output_type": "stream",
     "text": [
      "c:\\Users\\mikus\\miniconda3\\envs\\mrq\\lib\\site-packages\\IPython\\core\\interactiveshell.py:3398: DtypeWarning: Columns (11,12) have mixed types.Specify dtype option on import or set low_memory=False.\n",
      "  exec(code_obj, self.user_global_ns, self.user_ns)\n"
     ]
    }
   ],
   "source": [
    "logs = pd.read_csv(\"vira_logs_2023-08-30.csv\")"
   ]
  },
  {
   "cell_type": "code",
   "execution_count": 6,
   "metadata": {},
   "outputs": [
    {
     "name": "stderr",
     "output_type": "stream",
     "text": [
      "C:\\Users\\mikus\\AppData\\Local\\Temp\\ipykernel_4724\\645253994.py:4: DeprecationWarning: The default dtype for empty Series will be 'object' instead of 'float64' in a future version. Specify a dtype explicitly to silence this warning.\n",
      "  temp2['question'] = pd.Series()\n"
     ]
    }
   ],
   "source": [
    "# get qualified eval rows\n",
    "temp = logs[(logs['thumbs_up_down']==1) | (logs['intent'].notna())]\n",
    "temp2 = temp.copy()\n",
    "temp2['question'] = pd.Series()\n",
    "\n",
    "temp_intent, temp_question = \"\", \"\"\n",
    "for i,row in temp.iterrows():\n",
    "    if row['side'] == 'user':\n",
    "        temp_intent = row['intent']\n",
    "        temp_question = row['text']\n",
    "    else:\n",
    "        temp2.loc[i,'intent'] = temp_intent\n",
    "        temp2.loc[i,'question'] = temp_question\n",
    "        \n",
    "temp = temp2[temp2['side']=='system'].reset_index(drop=True)"
   ]
  },
  {
   "cell_type": "code",
   "execution_count": 19,
   "metadata": {},
   "outputs": [
    {
     "data": {
      "text/html": [
       "<div>\n",
       "<style scoped>\n",
       "    .dataframe tbody tr th:only-of-type {\n",
       "        vertical-align: middle;\n",
       "    }\n",
       "\n",
       "    .dataframe tbody tr th {\n",
       "        vertical-align: top;\n",
       "    }\n",
       "\n",
       "    .dataframe thead th {\n",
       "        text-align: right;\n",
       "    }\n",
       "</style>\n",
       "<table border=\"1\" class=\"dataframe\">\n",
       "  <thead>\n",
       "    <tr style=\"text-align: right;\">\n",
       "      <th></th>\n",
       "      <th>index</th>\n",
       "      <th>dialog_id</th>\n",
       "      <th>message_id</th>\n",
       "      <th>side</th>\n",
       "      <th>date</th>\n",
       "      <th>text</th>\n",
       "      <th>language_code</th>\n",
       "      <th>platform</th>\n",
       "      <th>dialog_act</th>\n",
       "      <th>intent</th>\n",
       "      <th>is_feedback</th>\n",
       "      <th>is_concern</th>\n",
       "      <th>is_profanity</th>\n",
       "      <th>thumbs_up_down</th>\n",
       "    </tr>\n",
       "  </thead>\n",
       "  <tbody>\n",
       "    <tr>\n",
       "      <th>0</th>\n",
       "      <td>8</td>\n",
       "      <td>1</td>\n",
       "      <td>1</td>\n",
       "      <td>user</td>\n",
       "      <td>1/19/22</td>\n",
       "      <td>What are the long term side effects of these v...</td>\n",
       "      <td>NaN</td>\n",
       "      <td>whatsapp</td>\n",
       "      <td>concern</td>\n",
       "      <td>Other vaccines have caused long-term health pr...</td>\n",
       "      <td>False</td>\n",
       "      <td>True</td>\n",
       "      <td>FALSE</td>\n",
       "      <td>0</td>\n",
       "    </tr>\n",
       "    <tr>\n",
       "      <th>1</th>\n",
       "      <td>11</td>\n",
       "      <td>2</td>\n",
       "      <td>1</td>\n",
       "      <td>user</td>\n",
       "      <td>1/19/22</td>\n",
       "      <td>Are they safe</td>\n",
       "      <td>NaN</td>\n",
       "      <td>whatsapp</td>\n",
       "      <td>concern</td>\n",
       "      <td>The COVID vaccine is not safe</td>\n",
       "      <td>False</td>\n",
       "      <td>True</td>\n",
       "      <td>FALSE</td>\n",
       "      <td>0</td>\n",
       "    </tr>\n",
       "    <tr>\n",
       "      <th>2</th>\n",
       "      <td>15</td>\n",
       "      <td>2</td>\n",
       "      <td>5</td>\n",
       "      <td>user</td>\n",
       "      <td>1/19/22</td>\n",
       "      <td>do you know about boosters?</td>\n",
       "      <td>NaN</td>\n",
       "      <td>whatsapp</td>\n",
       "      <td>query</td>\n",
       "      <td>Is the booster shot dangerous?</td>\n",
       "      <td>False</td>\n",
       "      <td>True</td>\n",
       "      <td>FALSE</td>\n",
       "      <td>0</td>\n",
       "    </tr>\n",
       "    <tr>\n",
       "      <th>3</th>\n",
       "      <td>19</td>\n",
       "      <td>2</td>\n",
       "      <td>9</td>\n",
       "      <td>user</td>\n",
       "      <td>1/19/22</td>\n",
       "      <td>Is it safe for my baby to get the vaccine?</td>\n",
       "      <td>NaN</td>\n",
       "      <td>whatsapp</td>\n",
       "      <td>FEEDBACK_NEW_KP</td>\n",
       "      <td>Is it safe for my baby to get the vaccine?</td>\n",
       "      <td>True</td>\n",
       "      <td>True</td>\n",
       "      <td>FALSE</td>\n",
       "      <td>0</td>\n",
       "    </tr>\n",
       "    <tr>\n",
       "      <th>4</th>\n",
       "      <td>22</td>\n",
       "      <td>4</td>\n",
       "      <td>1</td>\n",
       "      <td>user</td>\n",
       "      <td>1/19/22</td>\n",
       "      <td>How long can the vaccine be?</td>\n",
       "      <td>NaN</td>\n",
       "      <td>whatsapp</td>\n",
       "      <td>concern</td>\n",
       "      <td>How long until I will be protected after takin...</td>\n",
       "      <td>False</td>\n",
       "      <td>True</td>\n",
       "      <td>FALSE</td>\n",
       "      <td>0</td>\n",
       "    </tr>\n",
       "    <tr>\n",
       "      <th>...</th>\n",
       "      <td>...</td>\n",
       "      <td>...</td>\n",
       "      <td>...</td>\n",
       "      <td>...</td>\n",
       "      <td>...</td>\n",
       "      <td>...</td>\n",
       "      <td>...</td>\n",
       "      <td>...</td>\n",
       "      <td>...</td>\n",
       "      <td>...</td>\n",
       "      <td>...</td>\n",
       "      <td>...</td>\n",
       "      <td>...</td>\n",
       "      <td>...</td>\n",
       "    </tr>\n",
       "    <tr>\n",
       "      <th>27230</th>\n",
       "      <td>105436</td>\n",
       "      <td>39527</td>\n",
       "      <td>1</td>\n",
       "      <td>user</td>\n",
       "      <td>8/28/23</td>\n",
       "      <td>Where can I find a vaccine?</td>\n",
       "      <td>en</td>\n",
       "      <td>NaN</td>\n",
       "      <td>query</td>\n",
       "      <td>How can I get the vaccine?</td>\n",
       "      <td>False</td>\n",
       "      <td>True</td>\n",
       "      <td>False</td>\n",
       "      <td>0</td>\n",
       "    </tr>\n",
       "    <tr>\n",
       "      <th>27231</th>\n",
       "      <td>105439</td>\n",
       "      <td>39552</td>\n",
       "      <td>1</td>\n",
       "      <td>user</td>\n",
       "      <td>8/29/23</td>\n",
       "      <td>How many people have already gotten the vaccine?</td>\n",
       "      <td>en</td>\n",
       "      <td>NaN</td>\n",
       "      <td>concern</td>\n",
       "      <td>How many people already got the vaccine?</td>\n",
       "      <td>False</td>\n",
       "      <td>True</td>\n",
       "      <td>False</td>\n",
       "      <td>0</td>\n",
       "    </tr>\n",
       "    <tr>\n",
       "      <th>27232</th>\n",
       "      <td>105442</td>\n",
       "      <td>39553</td>\n",
       "      <td>1</td>\n",
       "      <td>user</td>\n",
       "      <td>8/29/23</td>\n",
       "      <td>How many people have already gotten the vaccine?</td>\n",
       "      <td>en</td>\n",
       "      <td>NaN</td>\n",
       "      <td>concern</td>\n",
       "      <td>How many people already got the vaccine?</td>\n",
       "      <td>False</td>\n",
       "      <td>True</td>\n",
       "      <td>False</td>\n",
       "      <td>0</td>\n",
       "    </tr>\n",
       "    <tr>\n",
       "      <th>27233</th>\n",
       "      <td>105445</td>\n",
       "      <td>39557</td>\n",
       "      <td>1</td>\n",
       "      <td>user</td>\n",
       "      <td>8/29/23</td>\n",
       "      <td>Should people that already had COVID-19 get th...</td>\n",
       "      <td>en</td>\n",
       "      <td>NaN</td>\n",
       "      <td>concern</td>\n",
       "      <td>Should people that had COVID get the vaccine?</td>\n",
       "      <td>False</td>\n",
       "      <td>True</td>\n",
       "      <td>False</td>\n",
       "      <td>0</td>\n",
       "    </tr>\n",
       "    <tr>\n",
       "      <th>27234</th>\n",
       "      <td>105451</td>\n",
       "      <td>39566</td>\n",
       "      <td>1</td>\n",
       "      <td>user</td>\n",
       "      <td>8/29/23</td>\n",
       "      <td>Do you have symptoms for the newest Covid</td>\n",
       "      <td>en</td>\n",
       "      <td>NaN</td>\n",
       "      <td>concern</td>\n",
       "      <td>How effective is the vaccine against the Omicr...</td>\n",
       "      <td>False</td>\n",
       "      <td>True</td>\n",
       "      <td>False</td>\n",
       "      <td>0</td>\n",
       "    </tr>\n",
       "  </tbody>\n",
       "</table>\n",
       "<p>27235 rows × 14 columns</p>\n",
       "</div>"
      ],
      "text/plain": [
       "        index  dialog_id  message_id  side     date  \\\n",
       "0           8          1           1  user  1/19/22   \n",
       "1          11          2           1  user  1/19/22   \n",
       "2          15          2           5  user  1/19/22   \n",
       "3          19          2           9  user  1/19/22   \n",
       "4          22          4           1  user  1/19/22   \n",
       "...       ...        ...         ...   ...      ...   \n",
       "27230  105436      39527           1  user  8/28/23   \n",
       "27231  105439      39552           1  user  8/29/23   \n",
       "27232  105442      39553           1  user  8/29/23   \n",
       "27233  105445      39557           1  user  8/29/23   \n",
       "27234  105451      39566           1  user  8/29/23   \n",
       "\n",
       "                                                    text language_code  \\\n",
       "0      What are the long term side effects of these v...           NaN   \n",
       "1                                          Are they safe           NaN   \n",
       "2                            do you know about boosters?           NaN   \n",
       "3             Is it safe for my baby to get the vaccine?           NaN   \n",
       "4                           How long can the vaccine be?           NaN   \n",
       "...                                                  ...           ...   \n",
       "27230                        Where can I find a vaccine?            en   \n",
       "27231   How many people have already gotten the vaccine?            en   \n",
       "27232   How many people have already gotten the vaccine?            en   \n",
       "27233  Should people that already had COVID-19 get th...            en   \n",
       "27234          Do you have symptoms for the newest Covid            en   \n",
       "\n",
       "       platform       dialog_act  \\\n",
       "0      whatsapp          concern   \n",
       "1      whatsapp          concern   \n",
       "2      whatsapp            query   \n",
       "3      whatsapp  FEEDBACK_NEW_KP   \n",
       "4      whatsapp          concern   \n",
       "...         ...              ...   \n",
       "27230       NaN            query   \n",
       "27231       NaN          concern   \n",
       "27232       NaN          concern   \n",
       "27233       NaN          concern   \n",
       "27234       NaN          concern   \n",
       "\n",
       "                                                  intent  is_feedback  \\\n",
       "0      Other vaccines have caused long-term health pr...        False   \n",
       "1                          The COVID vaccine is not safe        False   \n",
       "2                         Is the booster shot dangerous?        False   \n",
       "3             Is it safe for my baby to get the vaccine?         True   \n",
       "4      How long until I will be protected after takin...        False   \n",
       "...                                                  ...          ...   \n",
       "27230                         How can I get the vaccine?        False   \n",
       "27231           How many people already got the vaccine?        False   \n",
       "27232           How many people already got the vaccine?        False   \n",
       "27233      Should people that had COVID get the vaccine?        False   \n",
       "27234  How effective is the vaccine against the Omicr...        False   \n",
       "\n",
       "       is_concern is_profanity thumbs_up_down  \n",
       "0            True        FALSE              0  \n",
       "1            True        FALSE              0  \n",
       "2            True        FALSE              0  \n",
       "3            True        FALSE              0  \n",
       "4            True        FALSE              0  \n",
       "...           ...          ...            ...  \n",
       "27230        True        False              0  \n",
       "27231        True        False              0  \n",
       "27232        True        False              0  \n",
       "27233        True        False              0  \n",
       "27234        True        False              0  \n",
       "\n",
       "[27235 rows x 14 columns]"
      ]
     },
     "execution_count": 19,
     "metadata": {},
     "output_type": "execute_result"
    }
   ],
   "source": [
    "temp = logs[logs['intent'].notna()].reset_index()\n",
    "temp"
   ]
  },
  {
   "cell_type": "code",
   "execution_count": 20,
   "metadata": {},
   "outputs": [],
   "source": [
    "def evaluate():\n",
    "    hits = 0\n",
    "    total = len(temp)\n",
    "    for _,row in temp.iterrows():\n",
    "        qa_pairs = search(row['text'], need_print=False)\n",
    "        qs = [pair[0].strip() for pair in qa_pairs]\n",
    "        if row['intent'].strip() in qs:\n",
    "            hits += 1\n",
    "    print(f\"Retrieval Accuracy: {hits/total}\")"
   ]
  },
  {
   "cell_type": "code",
   "execution_count": 17,
   "metadata": {},
   "outputs": [
    {
     "name": "stdout",
     "output_type": "stream",
     "text": [
      "Retrieval Accuracy: 0.23335931410756042\n"
     ]
    }
   ],
   "source": [
    "evaluate()"
   ]
  },
  {
   "cell_type": "code",
   "execution_count": 21,
   "metadata": {},
   "outputs": [
    {
     "name": "stdout",
     "output_type": "stream",
     "text": [
      "Retrieval Accuracy: 0.245125757297595\n"
     ]
    }
   ],
   "source": [
    "evaluate()"
   ]
  }
 ],
 "metadata": {
  "kernelspec": {
   "display_name": "mrq",
   "language": "python",
   "name": "python3"
  },
  "language_info": {
   "codemirror_mode": {
    "name": "ipython",
    "version": 3
   },
   "file_extension": ".py",
   "mimetype": "text/x-python",
   "name": "python",
   "nbconvert_exporter": "python",
   "pygments_lexer": "ipython3",
   "version": "3.9.7"
  }
 },
 "nbformat": 4,
 "nbformat_minor": 2
}
